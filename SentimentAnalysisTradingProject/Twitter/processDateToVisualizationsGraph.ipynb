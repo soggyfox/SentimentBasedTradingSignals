{
 "cells": [
  {
   "cell_type": "code",
   "execution_count": 284,
   "id": "865077fd",
   "metadata": {},
   "outputs": [],
   "source": [
    "import pandas as pd"
   ]
  },
  {
   "cell_type": "code",
   "execution_count": 285,
   "id": "a4e55bd5",
   "metadata": {},
   "outputs": [],
   "source": [
    "df = pd.read_csv(\"new_dataSet_withSentiment_withNewDateFormat_withBTCPrice.csv\")"
   ]
  },
  {
   "cell_type": "code",
   "execution_count": 286,
   "id": "0aded88e",
   "metadata": {},
   "outputs": [
    {
     "data": {
      "text/html": [
       "<div>\n",
       "<style scoped>\n",
       "    .dataframe tbody tr th:only-of-type {\n",
       "        vertical-align: middle;\n",
       "    }\n",
       "\n",
       "    .dataframe tbody tr th {\n",
       "        vertical-align: top;\n",
       "    }\n",
       "\n",
       "    .dataframe thead th {\n",
       "        text-align: right;\n",
       "    }\n",
       "</style>\n",
       "<table border=\"1\" class=\"dataframe\">\n",
       "  <thead>\n",
       "    <tr style=\"text-align: right;\">\n",
       "      <th></th>\n",
       "      <th>Market Sentiment Twiter</th>\n",
       "      <th>Date</th>\n",
       "      <th>Date2</th>\n",
       "      <th>Bitcoin Price</th>\n",
       "    </tr>\n",
       "  </thead>\n",
       "  <tbody>\n",
       "    <tr>\n",
       "      <th>0</th>\n",
       "      <td>1</td>\n",
       "      <td>10/02/2021</td>\n",
       "      <td>20210210</td>\n",
       "      <td>44855.6167</td>\n",
       "    </tr>\n",
       "    <tr>\n",
       "      <th>1</th>\n",
       "      <td>0</td>\n",
       "      <td>10/02/2021</td>\n",
       "      <td>20210210</td>\n",
       "      <td>44855.6167</td>\n",
       "    </tr>\n",
       "    <tr>\n",
       "      <th>2</th>\n",
       "      <td>0</td>\n",
       "      <td>10/02/2021</td>\n",
       "      <td>20210210</td>\n",
       "      <td>44855.6167</td>\n",
       "    </tr>\n",
       "    <tr>\n",
       "      <th>3</th>\n",
       "      <td>1</td>\n",
       "      <td>10/02/2021</td>\n",
       "      <td>20210210</td>\n",
       "      <td>44855.6167</td>\n",
       "    </tr>\n",
       "    <tr>\n",
       "      <th>4</th>\n",
       "      <td>-1</td>\n",
       "      <td>10/02/2021</td>\n",
       "      <td>20210210</td>\n",
       "      <td>44855.6167</td>\n",
       "    </tr>\n",
       "    <tr>\n",
       "      <th>...</th>\n",
       "      <td>...</td>\n",
       "      <td>...</td>\n",
       "      <td>...</td>\n",
       "      <td>...</td>\n",
       "    </tr>\n",
       "    <tr>\n",
       "      <th>2544</th>\n",
       "      <td>1</td>\n",
       "      <td>25/05/2021</td>\n",
       "      <td>20210525</td>\n",
       "      <td>38378.9600</td>\n",
       "    </tr>\n",
       "    <tr>\n",
       "      <th>2545</th>\n",
       "      <td>0</td>\n",
       "      <td>25/05/2021</td>\n",
       "      <td>20210525</td>\n",
       "      <td>38378.9600</td>\n",
       "    </tr>\n",
       "    <tr>\n",
       "      <th>2546</th>\n",
       "      <td>0</td>\n",
       "      <td>25/05/2021</td>\n",
       "      <td>20210525</td>\n",
       "      <td>38378.9600</td>\n",
       "    </tr>\n",
       "    <tr>\n",
       "      <th>2547</th>\n",
       "      <td>0</td>\n",
       "      <td>25/05/2021</td>\n",
       "      <td>20210525</td>\n",
       "      <td>38378.9600</td>\n",
       "    </tr>\n",
       "    <tr>\n",
       "      <th>2548</th>\n",
       "      <td>1</td>\n",
       "      <td>25/05/2021</td>\n",
       "      <td>20210525</td>\n",
       "      <td>38378.9600</td>\n",
       "    </tr>\n",
       "  </tbody>\n",
       "</table>\n",
       "<p>2549 rows × 4 columns</p>\n",
       "</div>"
      ],
      "text/plain": [
       "      Market Sentiment Twiter        Date     Date2  Bitcoin Price\n",
       "0                           1  10/02/2021  20210210     44855.6167\n",
       "1                           0  10/02/2021  20210210     44855.6167\n",
       "2                           0  10/02/2021  20210210     44855.6167\n",
       "3                           1  10/02/2021  20210210     44855.6167\n",
       "4                          -1  10/02/2021  20210210     44855.6167\n",
       "...                       ...         ...       ...            ...\n",
       "2544                        1  25/05/2021  20210525     38378.9600\n",
       "2545                        0  25/05/2021  20210525     38378.9600\n",
       "2546                        0  25/05/2021  20210525     38378.9600\n",
       "2547                        0  25/05/2021  20210525     38378.9600\n",
       "2548                        1  25/05/2021  20210525     38378.9600\n",
       "\n",
       "[2549 rows x 4 columns]"
      ]
     },
     "execution_count": 286,
     "metadata": {},
     "output_type": "execute_result"
    }
   ],
   "source": [
    "df.columns = [\"Market Sentiment Twiter\", \"Date\", \"Date2\", \"Bitcoin Price\"]\n",
    "df"
   ]
  },
  {
   "cell_type": "code",
   "execution_count": 287,
   "id": "0d35f790",
   "metadata": {},
   "outputs": [],
   "source": [
    "# Add group by \n",
    "df = df.groupby(['Date2']).mean('\"Market Sentiment Twiter')\n",
    "# df.plot()\n",
    "# df.corr(method ='kendall')\n",
    "# df.plot()"
   ]
  },
  {
   "cell_type": "code",
   "execution_count": 288,
   "id": "e792ff21",
   "metadata": {},
   "outputs": [
    {
     "data": {
      "text/html": [
       "<div>\n",
       "<style scoped>\n",
       "    .dataframe tbody tr th:only-of-type {\n",
       "        vertical-align: middle;\n",
       "    }\n",
       "\n",
       "    .dataframe tbody tr th {\n",
       "        vertical-align: top;\n",
       "    }\n",
       "\n",
       "    .dataframe thead th {\n",
       "        text-align: right;\n",
       "    }\n",
       "</style>\n",
       "<table border=\"1\" class=\"dataframe\">\n",
       "  <thead>\n",
       "    <tr style=\"text-align: right;\">\n",
       "      <th></th>\n",
       "      <th>Market Sentiment Twiter</th>\n",
       "      <th>Bitcoin Price</th>\n",
       "    </tr>\n",
       "    <tr>\n",
       "      <th>Date2</th>\n",
       "      <th></th>\n",
       "      <th></th>\n",
       "    </tr>\n",
       "  </thead>\n",
       "  <tbody>\n",
       "    <tr>\n",
       "      <th>20210205</th>\n",
       "      <td>30011.756650</td>\n",
       "      <td>38306.2467</td>\n",
       "    </tr>\n",
       "    <tr>\n",
       "      <th>20210206</th>\n",
       "      <td>30011.756650</td>\n",
       "      <td>39269.3417</td>\n",
       "    </tr>\n",
       "    <tr>\n",
       "      <th>20210207</th>\n",
       "      <td>13775.888298</td>\n",
       "      <td>38862.3500</td>\n",
       "    </tr>\n",
       "    <tr>\n",
       "      <th>20210208</th>\n",
       "      <td>21630.094883</td>\n",
       "      <td>46436.0900</td>\n",
       "    </tr>\n",
       "    <tr>\n",
       "      <th>20210209</th>\n",
       "      <td>20697.763207</td>\n",
       "      <td>46502.2933</td>\n",
       "    </tr>\n",
       "    <tr>\n",
       "      <th>20210210</th>\n",
       "      <td>22162.527988</td>\n",
       "      <td>44855.6167</td>\n",
       "    </tr>\n",
       "    <tr>\n",
       "      <th>20210213</th>\n",
       "      <td>20007.837767</td>\n",
       "      <td>47211.6683</td>\n",
       "    </tr>\n",
       "    <tr>\n",
       "      <th>20210214</th>\n",
       "      <td>12754.996576</td>\n",
       "      <td>48633.2600</td>\n",
       "    </tr>\n",
       "    <tr>\n",
       "      <th>20210215</th>\n",
       "      <td>15005.878325</td>\n",
       "      <td>47934.1267</td>\n",
       "    </tr>\n",
       "    <tr>\n",
       "      <th>20210218</th>\n",
       "      <td>22675.549469</td>\n",
       "      <td>51573.4067</td>\n",
       "    </tr>\n",
       "    <tr>\n",
       "      <th>20210219</th>\n",
       "      <td>24147.390408</td>\n",
       "      <td>55923.1300</td>\n",
       "    </tr>\n",
       "    <tr>\n",
       "      <th>20210222</th>\n",
       "      <td>25362.047873</td>\n",
       "      <td>54117.4950</td>\n",
       "    </tr>\n",
       "    <tr>\n",
       "      <th>20210228</th>\n",
       "      <td>22008.621543</td>\n",
       "      <td>45256.4133</td>\n",
       "    </tr>\n",
       "    <tr>\n",
       "      <th>20210311</th>\n",
       "      <td>30011.756650</td>\n",
       "      <td>57827.6133</td>\n",
       "    </tr>\n",
       "    <tr>\n",
       "      <th>20210312</th>\n",
       "      <td>18994.782690</td>\n",
       "      <td>57254.9000</td>\n",
       "    </tr>\n",
       "    <tr>\n",
       "      <th>20210405</th>\n",
       "      <td>27283.415136</td>\n",
       "      <td>59140.6850</td>\n",
       "    </tr>\n",
       "    <tr>\n",
       "      <th>20210406</th>\n",
       "      <td>20278.213953</td>\n",
       "      <td>58011.4150</td>\n",
       "    </tr>\n",
       "    <tr>\n",
       "      <th>20210407</th>\n",
       "      <td>21758.523571</td>\n",
       "      <td>55950.9700</td>\n",
       "    </tr>\n",
       "    <tr>\n",
       "      <th>20210408</th>\n",
       "      <td>17033.699720</td>\n",
       "      <td>58087.1800</td>\n",
       "    </tr>\n",
       "    <tr>\n",
       "      <th>20210409</th>\n",
       "      <td>16528.213807</td>\n",
       "      <td>58119.5900</td>\n",
       "    </tr>\n",
       "    <tr>\n",
       "      <th>20210410</th>\n",
       "      <td>20748.868795</td>\n",
       "      <td>59791.8450</td>\n",
       "    </tr>\n",
       "    <tr>\n",
       "      <th>20210411</th>\n",
       "      <td>28511.168817</td>\n",
       "      <td>59990.8733</td>\n",
       "    </tr>\n",
       "    <tr>\n",
       "      <th>20210412</th>\n",
       "      <td>26852.624371</td>\n",
       "      <td>59856.7133</td>\n",
       "    </tr>\n",
       "    <tr>\n",
       "      <th>20210417</th>\n",
       "      <td>20007.837767</td>\n",
       "      <td>60023.5133</td>\n",
       "    </tr>\n",
       "    <tr>\n",
       "      <th>20210418</th>\n",
       "      <td>24264.824526</td>\n",
       "      <td>56232.3767</td>\n",
       "    </tr>\n",
       "    <tr>\n",
       "      <th>20210419</th>\n",
       "      <td>20972.070912</td>\n",
       "      <td>55668.2283</td>\n",
       "    </tr>\n",
       "    <tr>\n",
       "      <th>20210420</th>\n",
       "      <td>21826.732109</td>\n",
       "      <td>56499.2767</td>\n",
       "    </tr>\n",
       "    <tr>\n",
       "      <th>20210421</th>\n",
       "      <td>19780.475974</td>\n",
       "      <td>53812.0750</td>\n",
       "    </tr>\n",
       "    <tr>\n",
       "      <th>20210422</th>\n",
       "      <td>21773.235217</td>\n",
       "      <td>51722.1333</td>\n",
       "    </tr>\n",
       "    <tr>\n",
       "      <th>20210423</th>\n",
       "      <td>16786.236770</td>\n",
       "      <td>51161.1467</td>\n",
       "    </tr>\n",
       "    <tr>\n",
       "      <th>20210424</th>\n",
       "      <td>22033.947920</td>\n",
       "      <td>50123.7367</td>\n",
       "    </tr>\n",
       "    <tr>\n",
       "      <th>20210525</th>\n",
       "      <td>24652.514391</td>\n",
       "      <td>38378.9600</td>\n",
       "    </tr>\n",
       "    <tr>\n",
       "      <th>20210526</th>\n",
       "      <td>23886.908354</td>\n",
       "      <td>39299.3583</td>\n",
       "    </tr>\n",
       "    <tr>\n",
       "      <th>20210527</th>\n",
       "      <td>22508.817488</td>\n",
       "      <td>38534.7717</td>\n",
       "    </tr>\n",
       "    <tr>\n",
       "      <th>20210528</th>\n",
       "      <td>18648.081802</td>\n",
       "      <td>35678.9400</td>\n",
       "    </tr>\n",
       "    <tr>\n",
       "      <th>20210529</th>\n",
       "      <td>19128.372370</td>\n",
       "      <td>34613.6700</td>\n",
       "    </tr>\n",
       "  </tbody>\n",
       "</table>\n",
       "</div>"
      ],
      "text/plain": [
       "          Market Sentiment Twiter  Bitcoin Price\n",
       "Date2                                           \n",
       "20210205             30011.756650     38306.2467\n",
       "20210206             30011.756650     39269.3417\n",
       "20210207             13775.888298     38862.3500\n",
       "20210208             21630.094883     46436.0900\n",
       "20210209             20697.763207     46502.2933\n",
       "20210210             22162.527988     44855.6167\n",
       "20210213             20007.837767     47211.6683\n",
       "20210214             12754.996576     48633.2600\n",
       "20210215             15005.878325     47934.1267\n",
       "20210218             22675.549469     51573.4067\n",
       "20210219             24147.390408     55923.1300\n",
       "20210222             25362.047873     54117.4950\n",
       "20210228             22008.621543     45256.4133\n",
       "20210311             30011.756650     57827.6133\n",
       "20210312             18994.782690     57254.9000\n",
       "20210405             27283.415136     59140.6850\n",
       "20210406             20278.213953     58011.4150\n",
       "20210407             21758.523571     55950.9700\n",
       "20210408             17033.699720     58087.1800\n",
       "20210409             16528.213807     58119.5900\n",
       "20210410             20748.868795     59791.8450\n",
       "20210411             28511.168817     59990.8733\n",
       "20210412             26852.624371     59856.7133\n",
       "20210417             20007.837767     60023.5133\n",
       "20210418             24264.824526     56232.3767\n",
       "20210419             20972.070912     55668.2283\n",
       "20210420             21826.732109     56499.2767\n",
       "20210421             19780.475974     53812.0750\n",
       "20210422             21773.235217     51722.1333\n",
       "20210423             16786.236770     51161.1467\n",
       "20210424             22033.947920     50123.7367\n",
       "20210525             24652.514391     38378.9600\n",
       "20210526             23886.908354     39299.3583\n",
       "20210527             22508.817488     38534.7717\n",
       "20210528             18648.081802     35678.9400\n",
       "20210529             19128.372370     34613.6700"
      ]
     },
     "execution_count": 288,
     "metadata": {},
     "output_type": "execute_result"
    }
   ],
   "source": [
    "column = df[\"Bitcoin Price\"]\n",
    "\n",
    "BtcMax_value = column.max()\n",
    "df[\"Market Sentiment Twiter\"] = BtcMax_value * df[\"Market Sentiment Twiter\"]\n",
    "df"
   ]
  },
  {
   "cell_type": "code",
   "execution_count": 289,
   "id": "191afa31",
   "metadata": {},
   "outputs": [],
   "source": [
    "df[\"Market Sentiment Twiter\"] = 1.8 * df[\"Market Sentiment Twiter\"]\n"
   ]
  },
  {
   "cell_type": "code",
   "execution_count": 290,
   "id": "ecae68af",
   "metadata": {},
   "outputs": [
    {
     "data": {
      "text/plain": [
       "Text(0, 0.5, 'Bitcoin Price OR Market sentiment')"
      ]
     },
     "execution_count": 290,
     "metadata": {},
     "output_type": "execute_result"
    },
    {
     "data": {
      "image/png": "[encoded data removed]",
      "text/plain": [
       "<Figure size 432x288 with 1 Axes>"
      ]
     },
     "metadata": {
      "needs_background": "light"
     },
     "output_type": "display_data"
    }
   ],
   "source": [
    "ax = df.plot(title='Bitcoin Market Sentiment against Bitcoin Price')\n",
    "ax.set_xlabel(\"Time in Days\")\n",
    "ax.set_ylabel(\"Bitcoin Price OR Market sentiment\")"
   ]
  },
  {
   "cell_type": "code",
   "execution_count": 291,
   "id": "286dc985",
   "metadata": {},
   "outputs": [],
   "source": [
    "val = df.corr(method ='pearson')"
   ]
  },
  {
   "cell_type": "code",
   "execution_count": 292,
   "id": "0ed903fc",
   "metadata": {},
   "outputs": [
    {
     "name": "stdout",
     "output_type": "stream",
     "text": [
      "0    0.2\n",
      "1    0.0\n",
      "2    0.6\n",
      "3    0.2\n",
      "dtype: float64\n"
     ]
    },
    {
     "data": {
      "text/plain": [
       "1370001.7"
      ]
     },
     "execution_count": 292,
     "metadata": {},
     "output_type": "execute_result"
    }
   ],
   "source": [
    "import pandas as pd\n",
    "import numpy as np\n",
    "def histogram_intersection(a, b):\n",
    "    v = np.minimum(a, b).sum().round(decimals=1)\n",
    "    return v\n",
    "s1 = pd.Series([.2, .0, .6, .2])\n",
    "print(s1)\n",
    "s2 = pd.Series([.3, .6, .0, .1])\n",
    "\n",
    "s1 = pd.Series(aa)\n",
    "# print(s1)\n",
    "s2 = pd.Series(bb)\n",
    "s2.corr(s1, method=histogram_intersection)"
   ]
  },
  {
   "cell_type": "code",
   "execution_count": 293,
   "id": "9f8fca85",
   "metadata": {},
   "outputs": [
    {
     "data": {
      "text/html": [
       "<div>\n",
       "<style scoped>\n",
       "    .dataframe tbody tr th:only-of-type {\n",
       "        vertical-align: middle;\n",
       "    }\n",
       "\n",
       "    .dataframe tbody tr th {\n",
       "        vertical-align: top;\n",
       "    }\n",
       "\n",
       "    .dataframe thead th {\n",
       "        text-align: right;\n",
       "    }\n",
       "</style>\n",
       "<table border=\"1\" class=\"dataframe\">\n",
       "  <thead>\n",
       "    <tr style=\"text-align: right;\">\n",
       "      <th></th>\n",
       "      <th>Market Sentiment Twiter</th>\n",
       "      <th>Bitcoin Price</th>\n",
       "    </tr>\n",
       "  </thead>\n",
       "  <tbody>\n",
       "    <tr>\n",
       "      <th>Market Sentiment Twiter</th>\n",
       "      <td>6.017146e+07</td>\n",
       "      <td>3.962931e+06</td>\n",
       "    </tr>\n",
       "    <tr>\n",
       "      <th>Bitcoin Price</th>\n",
       "      <td>3.962931e+06</td>\n",
       "      <td>6.547778e+07</td>\n",
       "    </tr>\n",
       "  </tbody>\n",
       "</table>\n",
       "</div>"
      ],
      "text/plain": [
       "                         Market Sentiment Twiter  Bitcoin Price\n",
       "Market Sentiment Twiter             6.017146e+07   3.962931e+06\n",
       "Bitcoin Price                       3.962931e+06   6.547778e+07"
      ]
     },
     "execution_count": 293,
     "metadata": {},
     "output_type": "execute_result"
    }
   ],
   "source": [
    "df.cov()"
   ]
  },
  {
   "cell_type": "code",
   "execution_count": 294,
   "id": "69ebfb39",
   "metadata": {},
   "outputs": [],
   "source": [
    "import math\n",
    "\n",
    "def stDev(x):\n",
    "    variance = 0\n",
    "    for i in x:\n",
    "        variance += (i - mean(x) ** 2) / len(x)\n",
    "    return math.sqrt(variance)\n",
    "    \n",
    "def Pearsons(x,y):\n",
    "    cov = covariance(x,y)\n",
    "    return cov / (stDev(x) * stDev(y))"
   ]
  },
  {
   "cell_type": "code",
   "execution_count": 295,
   "id": "22bbfe5b",
   "metadata": {},
   "outputs": [
    {
     "name": "stdout",
     "output_type": "stream",
     "text": [
      "[-11989.903577777768, -11026.808577777745, -11433.80027777773, -3860.060277777855, -3793.8569777777666, -5440.53357777778, -3084.4819777777666, -1662.8902777778785, -2362.0235777778435, 1277.2564222222209, 5626.979722222139, 3821.3447222222967, -5039.736977777793, 7531.463022222219, 6958.749722222194, 8844.53472222227, 7715.264722222244, 5654.819722222288, 7791.029722222287, 7823.439722222167, 9495.694722222273, 9694.723022222272, 9560.56302222218, 9727.36302222222, 5936.2264222221565, 5372.078022222238, 6203.126422222202, 3515.924722222313, 1425.9830222221644, 864.9964222223061, -172.41357777788653, -11917.190277777801, -10996.791977777808, -11761.378577777825, -14617.210277777827, -15682.480277777824]\n",
      "[14794.99033260189, 14794.99033260189, -14429.57270034893, -292.00084820892516, -1970.197864984315, 666.3787404480463, -3212.0636573981174, -16267.17780014811, -12215.59065239811, 1589.8174066018837, 4239.131097084646, 6425.514534432878, 389.3471406018871, 14794.99033260189, -5035.562795625956, 9883.975608056433, -2725.386522533241, -60.82920914811257, -8565.512140911625, -9475.386784354636, -1878.2078062869987, 12093.932234101885, 9108.552230496629, -3212.0636573981174, 4450.512508559332, -1476.4439957113646, 61.94615896552568, -3621.3148844435636, -34.34824739811302, -9010.945450787942, 434.93461905758886, 5148.354266530463, 3770.2633999488244, 1289.6998401018936, -5659.624393902966, -4795.10137080471]\n"
     ]
    }
   ],
   "source": [
    "a = list(df[\"Bitcoin Price\"])\n",
    "b = list(df[\"Market Sentiment Twiter\"])\n",
    "a_centered = [i - mean(a) for i in a]\n",
    "b_centered = [j - mean(b) for j in b]\n",
    "print(a_centered)\n",
    "print(b_centered)"
   ]
  },
  {
   "cell_type": "code",
   "execution_count": 296,
   "id": "4cde587e",
   "metadata": {},
   "outputs": [],
   "source": [
    "def dotProduct(x,y):\n",
    "    calc = 0\n",
    "    for i in range(len(x)):\n",
    "        calc += x[i] * y[i]\n",
    "    return calc"
   ]
  },
  {
   "cell_type": "code",
   "execution_count": 297,
   "id": "bd2fa796",
   "metadata": {},
   "outputs": [],
   "source": [
    "def magnitude(x):\n",
    "    x_sq = [i ** 2 for i in x]\n",
    "    return math.sqrt(sum(x_sq))"
   ]
  },
  {
   "cell_type": "code",
   "execution_count": 298,
   "id": "1ad0e091",
   "metadata": {},
   "outputs": [],
   "source": [
    "def cosTheta(x,y):\n",
    "    mag_x = magnitude(x)\n",
    "    mag_y = magnitude(y)\n",
    "    return dotProduct(x,y) / (mag_x * mag_y)"
   ]
  },
  {
   "cell_type": "code",
   "execution_count": 299,
   "id": "b6e64ef7",
   "metadata": {},
   "outputs": [
    {
     "ename": "ValueError",
     "evalue": "math domain error",
     "output_type": "error",
     "traceback": [
      "\u001b[1;31m---------------------------------------------------------------------------\u001b[0m",
      "\u001b[1;31mValueError\u001b[0m                                Traceback (most recent call last)",
      "\u001b[1;32m<ipython-input-299-5831e6f14dee>\u001b[0m in \u001b[0;36m<module>\u001b[1;34m\u001b[0m\n\u001b[1;32m----> 1\u001b[1;33m \u001b[0mr\u001b[0m \u001b[1;33m=\u001b[0m \u001b[0mPearsons\u001b[0m\u001b[1;33m(\u001b[0m\u001b[0mx\u001b[0m\u001b[1;33m,\u001b[0m\u001b[0my\u001b[0m\u001b[1;33m)\u001b[0m\u001b[1;33m\u001b[0m\u001b[1;33m\u001b[0m\u001b[0m\n\u001b[0m\u001b[0;32m      2\u001b[0m \u001b[0mz\u001b[0m \u001b[1;33m=\u001b[0m \u001b[0mmath\u001b[0m\u001b[1;33m.\u001b[0m\u001b[0matanh\u001b[0m\u001b[1;33m(\u001b[0m\u001b[0mr\u001b[0m\u001b[1;33m)\u001b[0m\u001b[1;33m\u001b[0m\u001b[1;33m\u001b[0m\u001b[0m\n\u001b[0;32m      3\u001b[0m \u001b[0mSD_z\u001b[0m \u001b[1;33m=\u001b[0m \u001b[1;36m1\u001b[0m \u001b[1;33m/\u001b[0m \u001b[0mmath\u001b[0m\u001b[1;33m.\u001b[0m\u001b[0msqrt\u001b[0m\u001b[1;33m(\u001b[0m\u001b[0mlen\u001b[0m\u001b[1;33m(\u001b[0m\u001b[0mx\u001b[0m\u001b[1;33m)\u001b[0m \u001b[1;33m-\u001b[0m \u001b[1;36m3\u001b[0m\u001b[1;33m)\u001b[0m\u001b[1;33m\u001b[0m\u001b[1;33m\u001b[0m\u001b[0m\n\u001b[0;32m      4\u001b[0m \u001b[0mz_upper\u001b[0m \u001b[1;33m=\u001b[0m \u001b[0mz\u001b[0m \u001b[1;33m+\u001b[0m \u001b[1;36m1.96\u001b[0m \u001b[1;33m*\u001b[0m \u001b[0mSD_z\u001b[0m\u001b[1;33m\u001b[0m\u001b[1;33m\u001b[0m\u001b[0m\n\u001b[0;32m      5\u001b[0m \u001b[0mz_lower\u001b[0m \u001b[1;33m=\u001b[0m \u001b[0mz\u001b[0m \u001b[1;33m-\u001b[0m \u001b[1;36m1.96\u001b[0m \u001b[1;33m*\u001b[0m \u001b[0mSD_z\u001b[0m\u001b[1;33m\u001b[0m\u001b[1;33m\u001b[0m\u001b[0m\n",
      "\u001b[1;32m<ipython-input-294-f72faeedd57b>\u001b[0m in \u001b[0;36mPearsons\u001b[1;34m(x, y)\u001b[0m\n\u001b[0;32m      9\u001b[0m \u001b[1;32mdef\u001b[0m \u001b[0mPearsons\u001b[0m\u001b[1;33m(\u001b[0m\u001b[0mx\u001b[0m\u001b[1;33m,\u001b[0m\u001b[0my\u001b[0m\u001b[1;33m)\u001b[0m\u001b[1;33m:\u001b[0m\u001b[1;33m\u001b[0m\u001b[1;33m\u001b[0m\u001b[0m\n\u001b[0;32m     10\u001b[0m     \u001b[0mcov\u001b[0m \u001b[1;33m=\u001b[0m \u001b[0mcovariance\u001b[0m\u001b[1;33m(\u001b[0m\u001b[0mx\u001b[0m\u001b[1;33m,\u001b[0m\u001b[0my\u001b[0m\u001b[1;33m)\u001b[0m\u001b[1;33m\u001b[0m\u001b[1;33m\u001b[0m\u001b[0m\n\u001b[1;32m---> 11\u001b[1;33m     \u001b[1;32mreturn\u001b[0m \u001b[0mcov\u001b[0m \u001b[1;33m/\u001b[0m \u001b[1;33m(\u001b[0m\u001b[0mstDev\u001b[0m\u001b[1;33m(\u001b[0m\u001b[0mx\u001b[0m\u001b[1;33m)\u001b[0m \u001b[1;33m*\u001b[0m \u001b[0mstDev\u001b[0m\u001b[1;33m(\u001b[0m\u001b[0my\u001b[0m\u001b[1;33m)\u001b[0m\u001b[1;33m)\u001b[0m\u001b[1;33m\u001b[0m\u001b[1;33m\u001b[0m\u001b[0m\n\u001b[0m",
      "\u001b[1;32m<ipython-input-294-f72faeedd57b>\u001b[0m in \u001b[0;36mstDev\u001b[1;34m(x)\u001b[0m\n\u001b[0;32m      5\u001b[0m     \u001b[1;32mfor\u001b[0m \u001b[0mi\u001b[0m \u001b[1;32min\u001b[0m \u001b[0mx\u001b[0m\u001b[1;33m:\u001b[0m\u001b[1;33m\u001b[0m\u001b[1;33m\u001b[0m\u001b[0m\n\u001b[0;32m      6\u001b[0m         \u001b[0mvariance\u001b[0m \u001b[1;33m+=\u001b[0m \u001b[1;33m(\u001b[0m\u001b[0mi\u001b[0m \u001b[1;33m-\u001b[0m \u001b[0mmean\u001b[0m\u001b[1;33m(\u001b[0m\u001b[0mx\u001b[0m\u001b[1;33m)\u001b[0m \u001b[1;33m**\u001b[0m \u001b[1;36m2\u001b[0m\u001b[1;33m)\u001b[0m \u001b[1;33m/\u001b[0m \u001b[0mlen\u001b[0m\u001b[1;33m(\u001b[0m\u001b[0mx\u001b[0m\u001b[1;33m)\u001b[0m\u001b[1;33m\u001b[0m\u001b[1;33m\u001b[0m\u001b[0m\n\u001b[1;32m----> 7\u001b[1;33m     \u001b[1;32mreturn\u001b[0m \u001b[0mmath\u001b[0m\u001b[1;33m.\u001b[0m\u001b[0msqrt\u001b[0m\u001b[1;33m(\u001b[0m\u001b[0mvariance\u001b[0m\u001b[1;33m)\u001b[0m\u001b[1;33m\u001b[0m\u001b[1;33m\u001b[0m\u001b[0m\n\u001b[0m\u001b[0;32m      8\u001b[0m \u001b[1;33m\u001b[0m\u001b[0m\n\u001b[0;32m      9\u001b[0m \u001b[1;32mdef\u001b[0m \u001b[0mPearsons\u001b[0m\u001b[1;33m(\u001b[0m\u001b[0mx\u001b[0m\u001b[1;33m,\u001b[0m\u001b[0my\u001b[0m\u001b[1;33m)\u001b[0m\u001b[1;33m:\u001b[0m\u001b[1;33m\u001b[0m\u001b[1;33m\u001b[0m\u001b[0m\n",
      "\u001b[1;31mValueError\u001b[0m: math domain error"
     ]
    }
   ],
   "source": [
    "r = Pearsons(x,y)\n",
    "z = math.atanh(r)\n",
    "SD_z = 1 / math.sqrt(len(x) - 3)\n",
    "z_upper = z + 1.96 * SD_z\n",
    "z_lower = z - 1.96 * SD_z\n",
    "r_upper = math.tanh(z_upper)\n",
    "r_lower = math.tanh(z_lower)"
   ]
  },
  {
   "cell_type": "code",
   "execution_count": null,
   "id": "277e18e2",
   "metadata": {},
   "outputs": [],
   "source": [
    "\n",
    "a = list(df[\"Bitcoin Price\"])\n",
    "b = list(df[\"Market Sentiment Twiter\"])\n",
    "\n",
    "from scipy.stats import pearsonr\n",
    "\n",
    "# a = [1,2,3,4]\n",
    "# b = [3,5,7,9]\n",
    "\n",
    "corr, p_value = pearsonr(a, b)\n",
    "print(corr)"
   ]
  },
  {
   "cell_type": "code",
   "execution_count": null,
   "id": "2b089386",
   "metadata": {},
   "outputs": [],
   "source": [
    "\n",
    "\n",
    "df.plot.bar();"
   ]
  },
  {
   "cell_type": "code",
   "execution_count": null,
   "id": "a52fefaf",
   "metadata": {},
   "outputs": [],
   "source": [
    "df.plot.hist(alpha=0.025);"
   ]
  },
  {
   "cell_type": "code",
   "execution_count": null,
   "id": "f4905f2b",
   "metadata": {},
   "outputs": [],
   "source": []
  }
 ],
 "metadata": {
  "kernelspec": {
   "display_name": "Python 3",
   "language": "python",
   "name": "python3"
  },
  "language_info": {
   "codemirror_mode": {
    "name": "ipython",
    "version": 3
   },
   "file_extension": ".py",
   "mimetype": "text/x-python",
   "name": "python",
   "nbconvert_exporter": "python",
   "pygments_lexer": "ipython3",
   "version": "3.8.8"
  }
 },
 "nbformat": 4,
 "nbformat_minor": 5
}
